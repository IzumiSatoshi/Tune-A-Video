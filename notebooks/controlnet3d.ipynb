{
 "cells": [
  {
   "cell_type": "code",
   "execution_count": 1,
   "metadata": {},
   "outputs": [],
   "source": [
    "%load_ext autoreload\n",
    "%autoreload 2"
   ]
  },
  {
   "cell_type": "code",
   "execution_count": 2,
   "metadata": {},
   "outputs": [
    {
     "name": "stderr",
     "output_type": "stream",
     "text": [
      "/mnt/disks/disk_main/anaconda3/envs/tune_a_video/lib/python3.10/site-packages/tqdm/auto.py:22: TqdmWarning: IProgress not found. Please update jupyter and ipywidgets. See https://ipywidgets.readthedocs.io/en/stable/user_install.html\n",
      "  from .autonotebook import tqdm as notebook_tqdm\n"
     ]
    }
   ],
   "source": [
    "import sys\n",
    "sys.path.append(\"../\")\n",
    "\n",
    "from tuneavideo.models.unet_with_controlnet import UNet2DConditionModel\n",
    "from tuneavideo.data.dataset import TuneAVideoMoreShotDataset\n",
    "from tuneavideo.models.unet import UNet3DConditionModel\n",
    "from tuneavideo.pipelines.pipeline_tuneavideo import TuneAVideoPipeline\n",
    "from tuneavideo.pipelines.pipeline_tuneavideo_controlnet import TuneAVideoControlNetPipeline\n",
    "from diffusers import StableDiffusionPipeline\n",
    "from tuneavideo.models.controlnet_blocks import InflatedControlNetInputHintBlock3D, ControlNetInputHintBlock\n",
    "\n",
    "import torch\n",
    "from transformers import CLIPTokenizer\n",
    "import numpy as np\n",
    "from einops import rearrange\n",
    "from PIL import Image\n",
    "from glob import glob\n",
    "\n",
    "from einops import rearrange"
   ]
  },
  {
   "cell_type": "code",
   "execution_count": 6,
   "metadata": {},
   "outputs": [
    {
     "name": "stderr",
     "output_type": "stream",
     "text": [
      "The config attributes {'conv_in_kernel': 3, 'conv_out_kernel': 3, 'projection_class_embeddings_input_dim': None, 'time_cond_proj_dim': None, 'time_embedding_type': 'positional', 'timestep_post_act': None} were passed to UNet3DConditionModel, but are not expected and will be ignored. Please verify your config.json configuration file.\n"
     ]
    }
   ],
   "source": [
    "# controlnet = UNet3DConditionModel(64, controlnet_hint_channels=3, cross_attention_dim=768)\n",
    "controlnet = UNet3DConditionModel.from_pretrained_2d(\"../../diffusers_controlnet/models/control_sd15_openpose/controlnet\").half().cuda()"
   ]
  },
  {
   "cell_type": "code",
   "execution_count": 8,
   "metadata": {},
   "outputs": [
    {
     "name": "stderr",
     "output_type": "stream",
     "text": [
      "The config attributes {'conv_in_kernel': 3, 'conv_out_kernel': 3, 'projection_class_embeddings_input_dim': None, 'time_cond_proj_dim': None, 'time_embedding_type': 'positional', 'timestep_post_act': None} were passed to UNet3DConditionModel, but are not expected and will be ignored. Please verify your config.json configuration file.\n"
     ]
    }
   ],
   "source": [
    "unet = UNet3DConditionModel.from_pretrained_2d(\"../../diffusers_controlnet/models/control_sd15_openpose/unet\").half().cuda()"
   ]
  },
  {
   "cell_type": "code",
   "execution_count": 14,
   "metadata": {},
   "outputs": [],
   "source": [
    "unet.enable_xformers_memory_efficient_attention()\n",
    "controlnet.enable_xformers_memory_efficient_attention()"
   ]
  },
  {
   "cell_type": "code",
   "execution_count": 19,
   "metadata": {},
   "outputs": [],
   "source": [
    "sample = torch.randn(1, 4, 3, 64, 64).half().cuda()\n",
    "timestep = 1\n",
    "encoder_hidden_states = torch.randn(1, 320, 768).half().cuda()\n",
    "hint = torch.randn(1, 3, 3, 512, 512).half().cuda()\n",
    "res = controlnet(sample=sample, timestep=timestep, encoder_hidden_states=encoder_hidden_states, controlnet_hint=hint)"
   ]
  },
  {
   "cell_type": "code",
   "execution_count": 17,
   "metadata": {},
   "outputs": [
    {
     "data": {
      "text/plain": [
       "torch.Size([1, 320, 3, 64, 64])"
      ]
     },
     "execution_count": 17,
     "metadata": {},
     "output_type": "execute_result"
    }
   ],
   "source": [
    "res[0].shape"
   ]
  },
  {
   "cell_type": "code",
   "execution_count": 20,
   "metadata": {},
   "outputs": [],
   "source": [
    "res_unet = unet(sample=sample, timestep=timestep, encoder_hidden_states=encoder_hidden_states, control=res)"
   ]
  },
  {
   "cell_type": "code",
   "execution_count": 21,
   "metadata": {},
   "outputs": [
    {
     "data": {
      "text/plain": [
       "UNet3DConditionOutput(sample=tensor([[[[[-5.6738e-01, -2.0972e-01, -1.1401e-01,  ..., -2.2107e-01,\n",
       "            -2.3206e-01,  5.5957e-01],\n",
       "           [ 7.4219e-02, -1.4502e-01, -1.2405e-02,  ...,  6.7578e-01,\n",
       "            -9.8938e-02, -2.5610e-01],\n",
       "           [ 1.9006e-01,  2.8198e-01, -4.5361e-01,  ..., -4.6704e-01,\n",
       "            -7.4646e-02, -3.2501e-02],\n",
       "           ...,\n",
       "           [ 1.1879e-02, -2.2571e-01,  3.6841e-01,  ..., -2.5732e-01,\n",
       "            -4.9805e-02,  7.1167e-02],\n",
       "           [-2.7075e-01, -4.4165e-01,  5.9619e-01,  ..., -4.5581e-01,\n",
       "            -5.6702e-02,  4.9976e-01],\n",
       "           [ 2.9810e-01, -4.2383e-01,  5.5811e-01,  ...,  7.2876e-02,\n",
       "             4.9512e-01, -5.1904e-01]],\n",
       "\n",
       "          [[-4.5996e-01,  8.6035e-01, -5.1392e-02,  ...,  5.5420e-01,\n",
       "             1.0242e-01, -4.8438e-01],\n",
       "           [-4.9878e-01, -6.3904e-02, -2.7637e-01,  ...,  3.9612e-02,\n",
       "            -2.7417e-01,  9.7949e-01],\n",
       "           [ 5.1953e-01,  2.4216e-02,  1.0608e-01,  ..., -3.3447e-01,\n",
       "             4.2456e-01, -7.7539e-01],\n",
       "           ...,\n",
       "           [ 1.7023e-03, -6.9092e-01,  4.9219e-01,  ...,  9.2432e-01,\n",
       "             5.5371e-01, -5.4395e-01],\n",
       "           [ 2.0093e-01,  4.3408e-01, -3.9478e-01,  ..., -5.9229e-01,\n",
       "             1.8420e-01,  6.1798e-02],\n",
       "           [ 4.5581e-01,  2.0410e-01, -6.4307e-01,  ..., -6.4502e-01,\n",
       "             1.5332e-01, -3.1909e-01]],\n",
       "\n",
       "          [[-3.3569e-01,  1.9617e-01, -7.0984e-02,  ..., -6.7480e-01,\n",
       "             4.6167e-01,  2.3181e-01],\n",
       "           [-1.8738e-01,  8.5596e-01, -4.1333e-01,  ...,  4.1553e-01,\n",
       "            -1.7590e-01,  9.2545e-03],\n",
       "           [ 9.4580e-01, -2.3181e-01,  4.7546e-02,  ...,  4.9536e-01,\n",
       "            -4.7729e-01,  3.2910e-01],\n",
       "           ...,\n",
       "           [ 1.5820e-01, -1.7822e-01,  7.5537e-01,  ..., -3.5742e-01,\n",
       "            -1.6553e-01, -7.2571e-02],\n",
       "           [ 1.9592e-01, -3.1958e-01, -3.9307e-02,  ..., -6.1279e-01,\n",
       "             5.0232e-02, -6.4331e-02],\n",
       "           [-8.0261e-02,  2.2888e-01, -4.1943e-01,  ...,  1.0779e-01,\n",
       "             6.1615e-02, -1.6870e-01]]],\n",
       "\n",
       "\n",
       "         [[[ 2.6123e-01, -5.2344e-01,  1.6077e-01,  ...,  3.3350e-01,\n",
       "             4.8633e-01,  1.0608e-01],\n",
       "           [ 3.5303e-01, -1.2537e-01, -2.0569e-01,  ..., -2.9858e-01,\n",
       "             3.3813e-01,  7.2998e-02],\n",
       "           [-3.3643e-01,  1.9165e-01,  2.4307e-02,  ..., -5.3369e-01,\n",
       "            -1.1414e-01, -1.1237e-01],\n",
       "           ...,\n",
       "           [-2.5146e-01, -2.5439e-01, -4.3945e-02,  ...,  4.3726e-01,\n",
       "             5.4108e-02,  3.6328e-01],\n",
       "           [ 4.6021e-02,  2.1326e-01,  1.7065e-01,  ..., -6.7505e-02,\n",
       "             2.1204e-01,  5.5450e-02],\n",
       "           [ 7.2363e-01,  3.9795e-01,  4.4525e-02,  ...,  1.3708e-01,\n",
       "            -4.3799e-01, -1.7017e-01]],\n",
       "\n",
       "          [[-3.1348e-01, -2.3937e-04, -5.1807e-01,  ..., -1.3391e-01,\n",
       "            -4.5972e-01,  4.8279e-02],\n",
       "           [ 8.0872e-03,  2.5098e-01, -7.2510e-02,  ..., -4.6143e-02,\n",
       "            -5.6824e-02,  2.6642e-02],\n",
       "           [ 2.7246e-01,  6.7078e-02, -1.2476e-01,  ...,  1.5552e-01,\n",
       "             2.9468e-01, -4.8022e-01],\n",
       "           ...,\n",
       "           [ 1.1475e-01,  2.2095e-02, -1.2524e-01,  ...,  5.2368e-02,\n",
       "            -1.0352e-01,  5.1758e-01],\n",
       "           [ 1.2421e-01,  5.4138e-02, -8.9111e-03,  ...,  1.5698e-01,\n",
       "            -9.5215e-02, -1.0797e-01],\n",
       "           [-3.1714e-01,  3.5913e-01, -6.4941e-02,  ...,  3.4204e-01,\n",
       "            -1.5039e-01, -4.7632e-01]],\n",
       "\n",
       "          [[ 2.2253e-01,  4.3396e-02,  1.4023e-02,  ..., -2.1265e-01,\n",
       "            -1.7004e-01, -7.0264e-01],\n",
       "           [ 3.4302e-01,  7.7881e-02, -2.2629e-02,  ..., -2.4376e-03,\n",
       "            -3.4106e-01,  1.6089e-01],\n",
       "           [-3.1967e-03,  7.7100e-01,  5.2637e-01,  ..., -2.4768e-01,\n",
       "             3.1323e-01, -4.8950e-02],\n",
       "           ...,\n",
       "           [ 2.9468e-01,  1.4856e-01,  7.6855e-01,  ...,  1.4050e-01,\n",
       "            -3.7384e-02, -1.1786e-01],\n",
       "           [-3.6792e-01, -3.9624e-01, -1.9006e-01,  ..., -4.5728e-01,\n",
       "             9.9731e-02,  8.6517e-03],\n",
       "           [-1.7120e-02,  2.7271e-01, -2.8648e-03,  ...,  1.6138e-01,\n",
       "             1.5091e-02, -3.3057e-01]]],\n",
       "\n",
       "\n",
       "         [[[-7.1899e-02, -1.1621e+00, -1.1450e-01,  ...,  1.7468e-01,\n",
       "             8.7891e-02, -7.9102e-02],\n",
       "           [ 1.1414e-01, -1.2781e-01, -1.5430e-01,  ..., -1.8723e-02,\n",
       "            -1.7212e-01, -2.4426e-01],\n",
       "           [-3.0396e-01, -4.6753e-02,  2.6993e-02,  ...,  1.7932e-01,\n",
       "             2.8516e-01, -5.2063e-02],\n",
       "           ...,\n",
       "           [ 8.4534e-02, -3.3661e-02,  7.7759e-02,  ...,  9.7198e-03,\n",
       "            -1.7834e-01, -2.0569e-01],\n",
       "           [-2.5781e-01,  1.5576e-01, -2.6154e-02,  ..., -4.8022e-01,\n",
       "             2.0557e-01,  4.3945e-02],\n",
       "           [-1.5601e-01,  1.5955e-01,  1.6235e-01,  ...,  1.6907e-01,\n",
       "            -1.5469e-03, -2.8149e-01]],\n",
       "\n",
       "          [[-9.5398e-02, -1.1188e-01,  2.8540e-01,  ..., -1.8347e-01,\n",
       "             2.6294e-01, -3.5278e-01],\n",
       "           [-5.4932e-01,  1.3039e-02,  8.5754e-02,  ...,  1.2610e-01,\n",
       "            -6.4087e-02, -1.2103e-01],\n",
       "           [ 9.0625e-01, -1.4771e-02, -4.7827e-01,  ..., -3.0957e-01,\n",
       "             2.5122e-01, -3.8745e-01],\n",
       "           ...,\n",
       "           [ 4.6021e-02, -2.0105e-01, -8.8428e-01,  ..., -3.8306e-01,\n",
       "             1.4636e-01, -8.6731e-02],\n",
       "           [-2.0477e-02,  7.0251e-02, -3.5352e-01,  ..., -3.4961e-01,\n",
       "            -2.1753e-01,  1.8860e-01],\n",
       "           [ 4.6191e-01, -4.5850e-01, -3.5461e-02,  ...,  3.0225e-01,\n",
       "             1.6357e-01, -2.4567e-02]],\n",
       "\n",
       "          [[ 4.9164e-02, -5.9863e-01,  9.7351e-03,  ..., -9.2102e-02,\n",
       "             1.7444e-01,  6.4758e-02],\n",
       "           [ 3.5889e-01, -3.6768e-01,  2.1960e-01,  ...,  5.9912e-01,\n",
       "            -4.4678e-01, -1.3924e-02],\n",
       "           [-5.1361e-02,  1.1920e-01,  2.0056e-01,  ..., -7.8354e-03,\n",
       "             1.5283e-01,  1.4514e-01],\n",
       "           ...,\n",
       "           [-5.3589e-02, -9.0088e-02,  1.7930e+00,  ..., -1.4439e-03,\n",
       "             1.1420e-01,  1.5701e-02],\n",
       "           [-1.5236e-02,  4.3921e-01,  2.6221e-01,  ..., -2.3486e-01,\n",
       "             8.1421e-02, -8.0615e-01],\n",
       "           [ 2.3026e-02, -5.3192e-02, -1.9128e-01,  ...,  5.4639e-01,\n",
       "            -5.4810e-02,  3.2593e-01]]],\n",
       "\n",
       "\n",
       "         [[[ 5.1709e-01,  1.4551e+00,  2.1753e-01,  ...,  6.9641e-02,\n",
       "             6.7578e-01,  5.9509e-02],\n",
       "           [-8.9014e-01, -1.3000e-01, -7.8064e-02,  ..., -2.4646e-01,\n",
       "            -9.3750e-02,  3.8501e-01],\n",
       "           [-7.9590e-02,  2.8516e-01,  5.4199e-01,  ...,  2.8491e-01,\n",
       "             1.9775e-01, -8.5632e-02],\n",
       "           ...,\n",
       "           [-1.3330e-01,  3.9600e-01, -4.7217e-01,  ...,  1.0156e-01,\n",
       "             1.4490e-01,  2.4829e-01],\n",
       "           [-1.9019e-01,  3.7207e-01, -3.3032e-01,  ...,  8.6243e-02,\n",
       "             1.1353e-01, -1.2012e-01],\n",
       "           [ 5.0830e-01,  4.1113e-01, -4.3433e-01,  ...,  1.0535e-01,\n",
       "            -8.6084e-01,  4.1724e-01]],\n",
       "\n",
       "          [[ 2.4857e-02, -4.6606e-01,  1.9543e-01,  ..., -5.4004e-01,\n",
       "            -5.3760e-01,  3.5059e-01],\n",
       "           [ 7.5244e-01, -5.2783e-01,  2.0618e-01,  ..., -5.8252e-01,\n",
       "             5.3613e-01, -1.1074e+00],\n",
       "           [-1.3477e+00,  1.6748e-01,  3.0273e-01,  ...,  8.5059e-01,\n",
       "            -5.6201e-01,  1.8835e-01],\n",
       "           ...,\n",
       "           [-2.1838e-01,  1.7676e+00,  5.6982e-01,  ..., -8.5303e-01,\n",
       "            -5.6885e-01,  8.7256e-01],\n",
       "           [-2.2986e-01, -7.9980e-01,  2.6782e-01,  ...,  1.1074e+00,\n",
       "            -3.0594e-02,  2.4707e-01],\n",
       "           [-2.5925e-02, -4.3506e-01,  1.5796e-01,  ...,  3.8013e-01,\n",
       "             3.4595e-01, -3.0899e-04]],\n",
       "\n",
       "          [[ 2.9785e-01,  3.7744e-01, -7.1045e-02,  ...,  1.4612e-01,\n",
       "            -3.4106e-01, -5.1318e-01],\n",
       "           [ 1.2047e-02, -5.1416e-01,  2.8149e-01,  ..., -4.4141e-01,\n",
       "             2.7856e-01, -9.1650e-01],\n",
       "           [-1.0117e+00,  3.1567e-01, -3.3521e-01,  ..., -4.7266e-01,\n",
       "             5.1611e-01,  1.8591e-01],\n",
       "           ...,\n",
       "           [-4.4385e-01,  5.2490e-01, -6.6504e-01,  ...,  3.2532e-02,\n",
       "            -1.1957e-01,  1.7593e-02],\n",
       "           [ 5.7422e-01, -8.1848e-02,  2.0496e-01,  ...,  4.3994e-01,\n",
       "             9.8022e-02,  1.5613e-01],\n",
       "           [ 2.5146e-02,  3.8477e-01,  9.1064e-02,  ..., -3.5547e-01,\n",
       "            -4.7028e-02, -5.0098e-01]]]]], device='cuda:0',\n",
       "       dtype=torch.float16, grad_fn=<ReshapeAliasBackward0>))"
      ]
     },
     "execution_count": 21,
     "metadata": {},
     "output_type": "execute_result"
    }
   ],
   "source": [
    "res_unet"
   ]
  }
 ],
 "metadata": {
  "kernelspec": {
   "display_name": "tune_a_video",
   "language": "python",
   "name": "python3"
  },
  "language_info": {
   "codemirror_mode": {
    "name": "ipython",
    "version": 3
   },
   "file_extension": ".py",
   "mimetype": "text/x-python",
   "name": "python",
   "nbconvert_exporter": "python",
   "pygments_lexer": "ipython3",
   "version": "3.10.9"
  },
  "orig_nbformat": 4,
  "vscode": {
   "interpreter": {
    "hash": "bc930b5ae691b227405cc9bff3dfc08ecacb7ab7388a794f9c4b730582c782dd"
   }
  }
 },
 "nbformat": 4,
 "nbformat_minor": 2
}
