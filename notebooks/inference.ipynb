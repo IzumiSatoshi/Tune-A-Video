{
 "cells": [
  {
   "cell_type": "code",
   "execution_count": 1,
   "metadata": {},
   "outputs": [
    {
     "name": "stderr",
     "output_type": "stream",
     "text": [
      "/mnt/disks/disk_main/anaconda3/envs/tune_a_video/lib/python3.10/site-packages/tqdm/auto.py:22: TqdmWarning: IProgress not found. Please update jupyter and ipywidgets. See https://ipywidgets.readthedocs.io/en/stable/user_install.html\n",
      "  from .autonotebook import tqdm as notebook_tqdm\n"
     ]
    }
   ],
   "source": [
    "from tuneavideo.pipelines.pipeline_tuneavideo import TuneAVideoPipeline\n",
    "from tuneavideo.models.unet import UNet3DConditionModel\n",
    "from tuneavideo.util import save_videos_grid\n",
    "import torch"
   ]
  },
  {
   "cell_type": "code",
   "execution_count": 2,
   "metadata": {},
   "outputs": [],
   "source": [
    "model_id = \"/mnt/disks/disk_main/projects/Tune-A-Video/outputs/man-surfing_lr3e-5_seed33/2023-01-31T09-12-36\"\n",
    "unet = UNet3DConditionModel.from_pretrained(model_id, subfolder='unet', torch_dtype=torch.float16).to('cuda')\n",
    "pipe = TuneAVideoPipeline.from_pretrained(\"checkpoints/stable-diffusion-v1-4\", unet=unet, torch_dtype=torch.float16).to(\"cuda\")"
   ]
  },
  {
   "cell_type": "code",
   "execution_count": 5,
   "metadata": {},
   "outputs": [],
   "source": [
    "pipe.unet.enable_xformers_memory_efficient_attention()"
   ]
  },
  {
   "cell_type": "code",
   "execution_count": 7,
   "metadata": {},
   "outputs": [
    {
     "name": "stderr",
     "output_type": "stream",
     "text": [
      "100%|██████████| 50/50 [01:17<00:00,  1.54s/it]\n"
     ]
    }
   ],
   "source": [
    "prompt = \"Dog surfing while flying in the sky.a dog is surfing on the\"\n",
    "video = pipe(prompt, video_length=8, height=512, width=512, num_inference_steps=50, guidance_scale=7.5).videos\n",
    "\n",
    "save_videos_grid(video, f\"./data/{prompt}_out.gif\")"
   ]
  }
 ],
 "metadata": {
  "kernelspec": {
   "display_name": "tune_a_video",
   "language": "python",
   "name": "python3"
  },
  "language_info": {
   "codemirror_mode": {
    "name": "ipython",
    "version": 3
   },
   "file_extension": ".py",
   "mimetype": "text/x-python",
   "name": "python",
   "nbconvert_exporter": "python",
   "pygments_lexer": "ipython3",
   "version": "3.10.9 (main, Jan 11 2023, 15:21:40) [GCC 11.2.0]"
  },
  "orig_nbformat": 4,
  "vscode": {
   "interpreter": {
    "hash": "bc930b5ae691b227405cc9bff3dfc08ecacb7ab7388a794f9c4b730582c782dd"
   }
  }
 },
 "nbformat": 4,
 "nbformat_minor": 2
}
